{
 "cells": [
  {
   "cell_type": "code",
   "execution_count": null,
   "id": "63a84cda",
   "metadata": {},
   "outputs": [
    {
     "name": "stdout",
     "output_type": "stream",
     "text": [
      "---\u001b[1m WELCOME TO ASANKA HOTEL \u001b[0m---\n"
     ]
    }
   ],
   "source": [
    "#welcome message\n",
    "print('---\\033[1m WELCOME TO ASANKA HOTEL \\033[0m---')\n",
    "\n",
    "#prompt user to enter charge for food\n",
    "charge=float(input('Please enter charge for food: $'))\n",
    "print('\\n')\n",
    "\n",
    "#calculate the charge + other additions(Tip=18% of the charge\n",
    "# while sales tax=7% of the charge)\n",
    "Tip=0.18*charge\n",
    "sales_tax=0.07*charge\n",
    "Grand_Total=charge+sales_tax+Tip\n",
    "\n",
    "#print the output in 2dp\n",
    "print('Tip: $%.2f' %Tip)\n",
    "print('sales_tax: $%.2f' %sales_tax)\n",
    "print('Grand_Total: $%.2f' %Grand_Total)\n",
    "print('--------------------------------')\n",
    "print(f'Your Bill is ${Grand_Total}')\n",
    "print('--------------------------------')\n",
    "\n",
    "\n",
    "\n"
   ]
  },
  {
   "cell_type": "code",
   "execution_count": null,
   "id": "e0265133",
   "metadata": {},
   "outputs": [],
   "source": []
  }
 ],
 "metadata": {
  "kernelspec": {
   "display_name": "Python 3 (ipykernel)",
   "language": "python",
   "name": "python3"
  },
  "language_info": {
   "codemirror_mode": {
    "name": "ipython",
    "version": 3
   },
   "file_extension": ".py",
   "mimetype": "text/x-python",
   "name": "python",
   "nbconvert_exporter": "python",
   "pygments_lexer": "ipython3",
   "version": "3.9.12"
  }
 },
 "nbformat": 4,
 "nbformat_minor": 5
}
